{
 "cells": [
  {
   "cell_type": "markdown",
   "metadata": {},
   "source": [
    "# Pandas, Seaborn, Jupyter\n",
    "Ejemplos de cómo usar las bibliotecas para experimentación."
   ]
  },
  {
   "cell_type": "markdown",
   "metadata": {},
   "source": [
    "Cada uno de estos bloques se llama celda. Las celdas tienen varios tipos, entre ellos Markdown y código. <br />\n",
    "- <b>Markdown</b>: sirve para escribir texto con formato.\n",
    "- <b>Code</b>: sirve para escribir código y ejecutarlo."
   ]
  },
  {
   "cell_type": "code",
   "execution_count": 9,
   "metadata": {},
   "outputs": [
    {
     "name": "stdout",
     "output_type": "stream",
     "text": [
      "5 * 5 = 25\n"
     ]
    }
   ],
   "source": [
    "# Primer ejemplo de código.\n",
    "# Para ejecutarlo tocar en el botón de Play al lado de In [x].\n",
    "# El número x es un número de secuencia que indica qué número de ejecución \n",
    "# es el que está mostrando y es global a todo el notebook.\n",
    "print(\"5 * 5 = \" + str(5 * 5));"
   ]
  },
  {
   "cell_type": "markdown",
   "metadata": {},
   "source": [
    "## Importar bibliotecas\n",
    "Para usar Pandas, Seaborn, y otras bibliotecas primero hay que importarlas.<br />\n",
    "Para importar una biblioteca se ejecuta la linea de código \"*import biblioteca* as *bib*.\" donde biblioteca es el nombre de la biblioteca (pandas, numpy, seaborn, ...) y bib es la abreviación con la cuál nos vamos a referir a esa biblioteca (pd, np, sns, ...). En general hay abreviaciones estándar para las bibliotecas más conocidas y es buena idea usarlas porque facilita la lectura del código.\n",
    "\n",
    "<b>Importante: </b> Ejecutar la celda de abajo para que se carguen las bibliotecas en el notebook."
   ]
  },
  {
   "cell_type": "code",
   "execution_count": 10,
   "metadata": {},
   "outputs": [],
   "source": [
    "import numpy as np\n",
    "import pandas as pd\n",
    "import seaborn as sns\n",
    "import matplotlib.pyplot as plt"
   ]
  },
  {
   "cell_type": "markdown",
   "metadata": {},
   "source": [
    "## Pandas\n",
    "Pandas sirve para procesar y manejar datos. Veamos un ejemplo. <br />\n",
    "En esta carpeta (notebook) hay un archivo en formato CSV (filas de datos separados por comas). Vamos a abrir ese archivo y poner su contenido en una especie de <i>tabla</i> de Pandas llamada DataFrame."
   ]
  },
  {
   "cell_type": "code",
   "execution_count": 13,
   "metadata": {},
   "outputs": [
    {
     "name": "stdout",
     "output_type": "stream",
     "text": [
      "    n  tiempo_algo1  tiempo_algo2\n",
      "0   1           3.0           4.0\n",
      "1  10          33.0          82.0\n",
      "2  20          66.0         167.0\n",
      "3  30          94.5         325.3\n",
      "4  40         124.6         712.2\n",
      "5  50         151.7        1534.3\n"
     ]
    }
   ],
   "source": [
    "pandas_dataframe = pd.read_csv('ejemplo.csv')\n",
    "print(pandas_dataframe)"
   ]
  },
  {
   "cell_type": "markdown",
   "metadata": {},
   "source": [
    "Una cosa que podemos hacer con pandas es quedarnos solo con algunas filas del dataframe. Por ejemplo con todas aquellas que tengan un valor de n >= 30."
   ]
  },
  {
   "cell_type": "code",
   "execution_count": 16,
   "metadata": {},
   "outputs": [
    {
     "name": "stdout",
     "output_type": "stream",
     "text": [
      "    n  tiempo_algo1  tiempo_algo2\n",
      "3  30          94.5         325.3\n",
      "4  40         124.6         712.2\n",
      "5  50         151.7        1534.3\n"
     ]
    }
   ],
   "source": [
    "df_n_geq_30 = pandas_dataframe.loc[pandas_dataframe['n'] >= 30];\n",
    "print(df_n_geq_30);"
   ]
  },
  {
   "cell_type": "markdown",
   "metadata": {},
   "source": [
    "Otra cosa que podemos hacer es operar con columnas para generar una nueva columna. Por ejemplo podemos crear una nueva columna que sea la suma de tiempo_algo1 y tiempo_algo2."
   ]
  },
  {
   "cell_type": "code",
   "execution_count": 17,
   "metadata": {},
   "outputs": [
    {
     "name": "stdout",
     "output_type": "stream",
     "text": [
      "    n  tiempo_algo1  tiempo_algo2  tiempo_total\n",
      "0   1           3.0           4.0           7.0\n",
      "1  10          33.0          82.0         115.0\n",
      "2  20          66.0         167.0         233.0\n",
      "3  30          94.5         325.3         419.8\n",
      "4  40         124.6         712.2         836.8\n",
      "5  50         151.7        1534.3        1686.0\n"
     ]
    }
   ],
   "source": [
    "pandas_dataframe['tiempo_total'] = pandas_dataframe['tiempo_algo1'] + pandas_dataframe['tiempo_algo2'];\n",
    "print(pandas_dataframe);"
   ]
  },
  {
   "cell_type": "markdown",
   "metadata": {},
   "source": [
    "## Seaborn\n",
    "Seaborn nos permite hacer gráficos a partir de un DataFrame de Pandas. Por ejemplo un gráfico de lineas o de barras tomando columnas como ejes del gráfico."
   ]
  },
  {
   "cell_type": "code",
   "execution_count": 22,
   "metadata": {},
   "outputs": [
    {
     "data": {
      "image/png": "[encoded data removed]",
      "text/plain": [
       "<Figure size 432x288 with 1 Axes>"
      ]
     },
     "metadata": {},
     "output_type": "display_data"
    }
   ],
   "source": [
    "plot = sns.lineplot(x=\"n\", y=\"tiempo_algo1\", data=pandas_dataframe);\n",
    "plot = sns.lineplot(x=\"n\", y=\"tiempo_algo2\", data=pandas_dataframe);\n",
    "plot.legend([\"Algo1\", \"Algo2\"]);\n",
    "plot.set(ylabel=\"Tiempo\");"
   ]
  },
  {
   "cell_type": "code",
   "execution_count": 25,
   "metadata": {},
   "outputs": [
    {
     "data": {
      "image/png": "[encoded data removed]",
      "text/plain": [
       "<Figure size 432x288 with 1 Axes>"
      ]
     },
     "metadata": {},
     "output_type": "display_data"
    }
   ],
   "source": [
    "plot = sns.barplot(x=\"n\", y=\"tiempo_total\", data=pandas_dataframe);"
   ]
  },
  {
   "cell_type": "markdown",
   "metadata": {},
   "source": [
    "### Más ejemplos de gráficos.\n",
    "En la página oficial de Seaborn: https://seaborn.pydata.org/examples/index.html"
   ]
  }
 ],
 "metadata": {
  "kernelspec": {
   "display_name": "Python 3",
   "language": "python",
   "name": "python3"
  },
  "language_info": {
   "codemirror_mode": {
    "name": "ipython",
    "version": 3
   },
   "file_extension": ".py",
   "mimetype": "text/x-python",
   "name": "python",
   "nbconvert_exporter": "python",
   "pygments_lexer": "ipython3",
   "version": "3.6.3"
  }
 },
 "nbformat": 4,
 "nbformat_minor": 2
}
