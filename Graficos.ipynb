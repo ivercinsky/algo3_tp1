{
 "cells": [
  {
   "cell_type": "code",
   "execution_count": 1,
   "metadata": {
    "collapsed": false
   },
   "outputs": [],
   "source": [
    "import numpy as np\n",
    "import pandas as pd\n",
    "import seaborn as sns\n",
    "import matplotlib.pyplot as plt"
   ]
  },
  {
   "cell_type": "code",
   "execution_count": 6,
   "metadata": {
    "collapsed": false
   },
   "outputs": [
    {
     "name": "stdout",
     "output_type": "stream",
     "text": [
      "      n           tfb  tfb/n*2n\n",
      "0    10       2.25110  0.000220\n",
      "1    10       3.11662  0.000304\n",
      "2    10       2.80070  0.000274\n",
      "3    10       3.11269  0.000304\n",
      "4    10       3.48730  0.000341\n",
      "5    10       2.36134  0.000231\n",
      "6    10       3.20126  0.000313\n",
      "7    10       3.19482  0.000312\n",
      "8    10       3.07734  0.000301\n",
      "9    11       6.61949  0.000294\n",
      "10   11       6.65792  0.000296\n",
      "11   11       7.35675  0.000327\n",
      "12   11       7.03786  0.000312\n",
      "13   11       6.00798  0.000267\n",
      "14   11       6.30195  0.000280\n",
      "15   11       4.59313  0.000204\n",
      "16   11       6.52571  0.000290\n",
      "17   11       3.90983  0.000174\n",
      "18   12      14.45740  0.000294\n",
      "19   12      10.22020  0.000208\n",
      "20   12      11.66270  0.000237\n",
      "21   12      12.97800  0.000264\n",
      "22   12      11.46340  0.000233\n",
      "23   12      13.29890  0.000271\n",
      "24   12      10.24500  0.000208\n",
      "25   12       8.98337  0.000183\n",
      "26   12      11.18990  0.000228\n",
      "27   13      20.35820  0.000191\n",
      "28   13      18.97490  0.000178\n",
      "29   13      21.00170  0.000197\n",
      "..   ..           ...       ...\n",
      "130  24   45667.00000  0.000113\n",
      "131  24   45807.90000  0.000114\n",
      "132  24   45769.30000  0.000114\n",
      "133  24   45704.50000  0.000114\n",
      "134  25   94337.60000  0.000112\n",
      "135  25   94396.10000  0.000113\n",
      "136  25   94650.30000  0.000113\n",
      "137  25   94267.00000  0.000112\n",
      "138  25   94255.60000  0.000112\n",
      "139  25   94504.80000  0.000113\n",
      "140  25   94126.10000  0.000112\n",
      "141  25   94335.40000  0.000112\n",
      "142  25   94444.40000  0.000113\n",
      "143  26  194048.00000  0.000111\n",
      "144  26  194502.00000  0.000111\n",
      "145  26  194521.00000  0.000111\n",
      "146  26  193961.00000  0.000111\n",
      "147  26  194652.00000  0.000112\n",
      "148  26  194594.00000  0.000112\n",
      "149  26  194359.00000  0.000111\n",
      "150  26  194186.00000  0.000111\n",
      "151  27  400368.00000  0.000110\n",
      "152  27  400579.00000  0.000111\n",
      "153  27  400255.00000  0.000110\n",
      "154  27  400249.00000  0.000110\n",
      "155  27  399137.00000  0.000110\n",
      "156  27  399585.00000  0.000110\n",
      "157  27  400642.00000  0.000111\n",
      "158  27  400599.00000  0.000111\n",
      "159  27  400131.00000  0.000110\n",
      "\n",
      "[160 rows x 3 columns]\n"
     ]
    }
   ],
   "source": [
    "data = pd.read_csv('experimentacion/salidaFB.out',usecols=['n','tfb'])\n",
    "data['tfb/n*2n'] = data['tfb']/(data['n']*(2**data['n']))\n",
    "print(data)"
   ]
  },
  {
   "cell_type": "code",
   "execution_count": 7,
   "metadata": {
    "collapsed": false
   },
   "outputs": [
    {
     "name": "stderr",
     "output_type": "stream",
     "text": [
      "/home/ivercinsky/.local/lib/python3.5/site-packages/scipy/stats/stats.py:1713: FutureWarning: Using a non-tuple sequence for multidimensional indexing is deprecated; use `arr[tuple(seq)]` instead of `arr[seq]`. In the future this will be interpreted as an array index, `arr[np.array(seq)]`, which will result either in an error or a different result.\n",
      "  return np.add.reduce(sorted[indexer] * weights, axis=axis) / sumval\n"
     ]
    }
   ],
   "source": [
    "ax1 = sns.lineplot(x=\"n\", y=\"tfb/n*2n\", data=data);\n",
    "plt.ylim(0,0.0002);\n",
    "plt.ylabel(\"FB(n,V)/n2^n\");"
   ]
  },
  {
   "cell_type": "code",
   "execution_count": null,
   "metadata": {
    "collapsed": true
   },
   "outputs": [],
   "source": []
  }
 ],
 "metadata": {
  "anaconda-cloud": {},
  "kernelspec": {
   "display_name": "Python [default]",
   "language": "python",
   "name": "python3"
  },
  "language_info": {
   "codemirror_mode": {
    "name": "ipython",
    "version": 3
   },
   "file_extension": ".py",
   "mimetype": "text/x-python",
   "name": "python",
   "nbconvert_exporter": "python",
   "pygments_lexer": "ipython3",
   "version": "3.5.2"
  }
 },
 "nbformat": 4,
 "nbformat_minor": 2
}
