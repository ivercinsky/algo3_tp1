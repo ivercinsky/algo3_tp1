{
 "cells": [
  {
   "cell_type": "code",
   "execution_count": 1,
   "metadata": {
    "collapsed": true
   },
   "outputs": [],
   "source": [
    "import numpy as np\n",
    "import subprocess\n",
    "import os\n",
    "import random\n",
    "from math import floor"
   ]
  },
  {
   "cell_type": "code",
   "execution_count": 2,
   "metadata": {
    "collapsed": true
   },
   "outputs": [],
   "source": [
    "low = 1\n",
    "high = 10\n",
    "primes = [2, 3, 5, 7, 11, 13, 17, 19, 23, 29, 31, 37, 41, 43, 47, 53, 59, 61, 67, 71, 73, 79, 83, 89, 97, 101, 103, 107, 109, 113, 127, 131, 137, 139, 149, 151, 157, 163, 167, 173, 179, 181, 191, 193, 197, 199]\n",
    "maxRange = 29\n",
    "minRange = 5\n",
    "increment = 1\n",
    "sumOfAllPrimes = sum(primes)\n",
    "targetPerInstance = 10"
   ]
  },
  {
   "cell_type": "code",
   "execution_count": 3,
   "metadata": {
    "collapsed": false
   },
   "outputs": [
    {
     "name": "stdout",
     "output_type": "stream",
     "text": [
      "5 164\n",
      "29\n",
      "157\n",
      "7\n",
      "131\n",
      "131\n"
     ]
    }
   ],
   "source": [
    "sample = np.random.choice(primes,minRange)\n",
    "sumOfSample = sum(sample)\n",
    "maxSample = max(sample)\n",
    "tv = random.sample(set(sample),2)\n",
    "print('{} {}'.format(len(sample),sum(tv)))\n",
    "for n in range(0, len(sample)):\n",
    "    print(sample[n])\n"
   ]
  },
  {
   "cell_type": "code",
   "execution_count": 5,
   "metadata": {
    "collapsed": false
   },
   "outputs": [],
   "source": [
    "for n in range(minRange, maxRange,increment):\n",
    "    for v in range(1,targetPerInstance):\n",
    "        sample = np.random.choice(primes,n)\n",
    "        sumOfSample = sum(sample)\n",
    "        maxSample = max(sample)\n",
    "        tv = sum(random.sample(set(sample),2))\n",
    "        with open(str('instanciaspython/instancia{}{}.txt'.format(n,tv)),'w+') as f:\n",
    "            f.write(str(n))\n",
    "            f.write(\" \")\n",
    "            f.write(str(tv))\n",
    "            for k in range(0,n):\n",
    "                f.write('\\n')\n",
    "                f.write(str(sample[k]))        "
   ]
  },
  {
   "cell_type": "code",
   "execution_count": null,
   "metadata": {
    "collapsed": true
   },
   "outputs": [],
   "source": []
  },
  {
   "cell_type": "code",
   "execution_count": null,
   "metadata": {
    "collapsed": true
   },
   "outputs": [],
   "source": []
  },
  {
   "cell_type": "code",
   "execution_count": null,
   "metadata": {
    "collapsed": true
   },
   "outputs": [],
   "source": []
  },
  {
   "cell_type": "code",
   "execution_count": null,
   "metadata": {
    "collapsed": true
   },
   "outputs": [],
   "source": []
  },
  {
   "cell_type": "code",
   "execution_count": null,
   "metadata": {
    "collapsed": true
   },
   "outputs": [],
   "source": []
  },
  {
   "cell_type": "code",
   "execution_count": null,
   "metadata": {
    "collapsed": true
   },
   "outputs": [],
   "source": []
  }
 ],
 "metadata": {
  "anaconda-cloud": {},
  "kernelspec": {
   "display_name": "Python [default]",
   "language": "python",
   "name": "python3"
  },
  "language_info": {
   "codemirror_mode": {
    "name": "ipython",
    "version": 3
   },
   "file_extension": ".py",
   "mimetype": "text/x-python",
   "name": "python",
   "nbconvert_exporter": "python",
   "pygments_lexer": "ipython3",
   "version": "3.5.2"
  }
 },
 "nbformat": 4,
 "nbformat_minor": 2
}
